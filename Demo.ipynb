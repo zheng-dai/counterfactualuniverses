{
 "cells": [
  {
   "cell_type": "code",
   "execution_count": 1,
   "id": "b6d1eac0",
   "metadata": {},
   "outputs": [],
   "source": [
    "from src.CounterfactualLoader import CounterfactualLoader\n",
    "from matplotlib import pyplot as plt\n",
    "import numpy as np"
   ]
  },
  {
   "cell_type": "markdown",
   "id": "d4a6e207",
   "metadata": {},
   "source": [
    "Simple demonstration of the Counterfactual Loader API"
   ]
  },
  {
   "cell_type": "code",
   "execution_count": 2,
   "id": "41a220b1",
   "metadata": {},
   "outputs": [],
   "source": [
    "# Initialize the loader\n",
    "\n",
    "loader = CounterfactualLoader(\"./data/MNIST_256.ctf\")"
   ]
  },
  {
   "cell_type": "code",
   "execution_count": 3,
   "id": "a5e89c17",
   "metadata": {},
   "outputs": [
    {
     "data": {
      "image/png": "[encoded data removed]",
      "text/plain": [
       "<Figure size 640x480 with 1 Axes>"
      ]
     },
     "metadata": {},
     "output_type": "display_data"
    }
   ],
   "source": [
    "# Get sample 0\n",
    "\n",
    "plt.imshow( loader.getGenerated(0) )\n",
    "plt.xticks([])\n",
    "plt.yticks([])\n",
    "plt.show()"
   ]
  },
  {
   "cell_type": "code",
   "execution_count": 4,
   "id": "f4c65ea4",
   "metadata": {},
   "outputs": [
    {
     "data": {
      "image/png": "[encoded data removed]",
      "text/plain": [
       "<Figure size 640x480 with 2 Axes>"
      ]
     },
     "metadata": {},
     "output_type": "display_data"
    }
   ],
   "source": [
    "# Get 7th and 12th training units\n",
    "# API returns a list of images belonging to the unit. For MNIST_256, units only contain single images.\n",
    "\n",
    "_, ax = plt.subplots(1,2)\n",
    "ax[0].imshow( loader.getTraining(7)[0] )\n",
    "ax[0].set_xticks([])\n",
    "ax[0].set_yticks([])\n",
    "ax[1].imshow( loader.getTraining(12)[0] )\n",
    "ax[1].set_xticks([])\n",
    "ax[1].set_yticks([])\n",
    "plt.show()"
   ]
  },
  {
   "cell_type": "code",
   "execution_count": 5,
   "id": "a66803a0",
   "metadata": {},
   "outputs": [
    {
     "data": {
      "image/png": "[encoded data removed]",
      "text/plain": [
       "<Figure size 640x480 with 2 Axes>"
      ]
     },
     "metadata": {},
     "output_type": "display_data"
    }
   ],
   "source": [
    "# Get counterfactual of 0th sample with 7th training image and 12th training image removed\n",
    "\n",
    "_, ax = plt.subplots(1,2)\n",
    "ax[0].imshow( loader.getGenerated(0, missing = 7) )\n",
    "ax[0].set_xticks([])\n",
    "ax[0].set_yticks([])\n",
    "ax[1].imshow( loader.getGenerated(0, missing = 12) )\n",
    "ax[1].set_xticks([])\n",
    "ax[1].set_yticks([])\n",
    "plt.show()"
   ]
  },
  {
   "cell_type": "markdown",
   "id": "3640c0a7",
   "metadata": {},
   "source": [
    "Simple algorithm for calculating Counterfactual Radius (CR)"
   ]
  },
  {
   "cell_type": "code",
   "execution_count": 6,
   "id": "1ae95d42",
   "metadata": {},
   "outputs": [
    {
     "data": {
      "text/plain": [
       "9.999811609144322"
      ]
     },
     "execution_count": 6,
     "metadata": {},
     "output_type": "execute_result"
    }
   ],
   "source": [
    "# Note: images are not scaled to 256x256x3 here, distances are in native resolution\n",
    "\n",
    "def getCounterfactualRadius(loader, sample):\n",
    "    counterfactual_index = 0\n",
    "    radius = 0\n",
    "    factual = loader.getGenerated(sample).astype(np.float64)/255\n",
    "    while True:\n",
    "        try:\n",
    "            counterfactual = loader.getGenerated(sample, counterfactual_index).astype(np.float64)/255\n",
    "            distance = np.sum((factual - counterfactual)**2) ** 0.5\n",
    "            radius = max(radius, distance)\n",
    "        except:\n",
    "            break\n",
    "        counterfactual_index += 1\n",
    "    return radius\n",
    "\n",
    "getCounterfactualRadius(loader, 0)"
   ]
  },
  {
   "cell_type": "markdown",
   "id": "2e4904d7",
   "metadata": {},
   "source": [
    "Simple algorithm for calculating the False Attribution Rate (FAR) for Euclidean distance attribution"
   ]
  },
  {
   "cell_type": "code",
   "execution_count": 7,
   "id": "a5f91cdf",
   "metadata": {},
   "outputs": [
    {
     "data": {
      "text/plain": [
       "1.1102230246251565e-16"
      ]
     },
     "execution_count": 7,
     "metadata": {},
     "output_type": "execute_result"
    }
   ],
   "source": [
    "def SimpleAttributionWithFlips(image_raw, data):\n",
    "    image = np.expand_dims(image_raw.astype(np.float64), axis = 0)\n",
    "    image_flip = np.expand_dims(image_raw[:, ::-1, :].astype(np.float64), axis = 0)\n",
    "    scores = []\n",
    "    for training in range(data.TrainingSetSize):\n",
    "        trainingImages = data.getTraining(training).astype(np.float64)\n",
    "        # Get smallest squared Euclidean distance within training unit, including flips\n",
    "        d = (trainingImages - image).reshape(trainingImages.shape[0], -1)\n",
    "        d = np.sum(d**2, axis = 1)\n",
    "        d = np.min(d)\n",
    "        d_flip = (trainingImages - image_flip).reshape(trainingImages.shape[0], -1)\n",
    "        d_flip = np.sum(d_flip**2, axis = 1)\n",
    "        d_flip = np.min(d_flip)\n",
    "        scores.append(min(d, d_flip))\n",
    "    return np.argmin(scores)\n",
    "\n",
    "def SimpleAttribution(image_raw, data, flip = True):\n",
    "    image = np.expand_dims(image_raw.astype(np.float64), axis = 0)\n",
    "    image_flip = np.expand_dims(image_raw[:, ::-1, :].astype(np.float64), axis = 0)\n",
    "    scores = []\n",
    "    for training in range(data.TrainingSetSize):\n",
    "        trainingImages = data.getTraining(training).astype(np.float64)\n",
    "        # Get smallest squared Euclidean distance within training unit\n",
    "        d = (trainingImages - image).reshape(trainingImages.shape[0], -1)\n",
    "        d = np.sum(d**2, axis = 1)\n",
    "        d = np.min(d)\n",
    "        scores.append(d)\n",
    "    return np.argmin(scores)\n",
    "\n",
    "def FalseAttributionTest(image_index, data, get_attribution):\n",
    "    attributed_index = get_attribution(data.getGenerated(image_index), data)\n",
    "    random_index = attributed_index\n",
    "    while random_index == attributed_index:\n",
    "        random_index = np.random.randint(data.TrainingSetSize)\n",
    "    reattributed_index = get_attribution(data.getGenerated(image_index, attributed_index), data)\n",
    "    reattributed_index_control = get_attribution(data.getGenerated(image_index, random_index), data)\n",
    "    return attributed_index == reattributed_index, attributed_index == reattributed_index_control\n",
    "\n",
    "def GetFAR(data, get_attribution):\n",
    "    samples = data.GeneratedSetSize\n",
    "    falseAttributions = []\n",
    "    baselines = []\n",
    "    for i in range(samples):\n",
    "        isFalseAttribution, baseline = FalseAttributionTest(i, data, get_attribution)\n",
    "        falseAttributions.append(1 if isFalseAttribution else 0)\n",
    "        baselines.append(1 if baseline else 0)\n",
    "    falseAttribution, baseline = sum(falseAttributions)/samples, sum(baselines)/samples\n",
    "    trueAttributionRate = ((1-falseAttribution) - (1-baseline))/baseline\n",
    "    falseAttributionRate = 1 - trueAttributionRate\n",
    "    return falseAttributionRate\n",
    "\n",
    "FAR = GetFAR(loader, SimpleAttribution)\n",
    "FAR"
   ]
  }
 ],
 "metadata": {
  "kernelspec": {
   "display_name": "Python [conda env:dualtensor] *",
   "language": "python",
   "name": "conda-env-dualtensor-py"
  },
  "language_info": {
   "codemirror_mode": {
    "name": "ipython",
    "version": 3
   },
   "file_extension": ".py",
   "mimetype": "text/x-python",
   "name": "python",
   "nbconvert_exporter": "python",
   "pygments_lexer": "ipython3",
   "version": "3.10.14"
  }
 },
 "nbformat": 4,
 "nbformat_minor": 5
}
